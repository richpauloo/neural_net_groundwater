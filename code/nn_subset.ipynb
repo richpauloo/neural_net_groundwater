{
 "cells": [
  {
   "cell_type": "code",
   "execution_count": 2,
   "metadata": {},
   "outputs": [
    {
     "name": "stderr",
     "output_type": "stream",
     "text": [
      "Using TensorFlow backend.\n"
     ]
    }
   ],
   "source": [
    "import numpy as np\n",
    "import pandas as pd\n",
    "import os\n",
    "import matplotlib.pyplot as plt\n",
    "import warnings\n",
    "\n",
    "import sklearn\n",
    "from sklearn.metrics import mean_squared_error\n",
    "from sklearn.preprocessing import MinMaxScaler\n",
    "from sklearn.ensemble import RandomForestRegressor\n",
    "from sklearn.model_selection import train_test_split\n",
    "\n",
    "from keras.models import Sequential\n",
    "from keras.layers import Dense\n",
    "\n",
    "warnings.filterwarnings('ignore')"
   ]
  },
  {
   "cell_type": "markdown",
   "metadata": {},
   "source": [
    "# Get the data"
   ]
  },
  {
   "cell_type": "code",
   "execution_count": 3,
   "metadata": {},
   "outputs": [
    {
     "data": {
      "text/plain": [
       "'/Users/aakashahamed/Desktop/moore/well_failure/neural_net_groundwater/data/cv_wells.csv'"
      ]
     },
     "execution_count": 3,
     "metadata": {},
     "output_type": "execute_result"
    }
   ],
   "source": [
    "cwd = os.getcwd()\n",
    "up1 = os.path.split(cwd)[0]\n",
    "data_dir = os.path.join(up1,\"data\")\n",
    "data = [os.path.join(data_dir,x) for x in os.listdir(data_dir) if x.endswith('.csv') if \"cv_wells\" in x][0]\n",
    "data"
   ]
  },
  {
   "cell_type": "markdown",
   "metadata": {},
   "source": [
    "# Define NN model"
   ]
  },
  {
   "cell_type": "code",
   "execution_count": 4,
   "metadata": {
    "collapsed": true
   },
   "outputs": [],
   "source": [
    "def baseline_model(X_train):\n",
    "    model = Sequential()\n",
    "    model.add(Dense(28, input_dim=56, activation='relu'))\n",
    "    model.add(Dense(14, activation='relu'))\n",
    "    model.add(Dense(7, activation='relu'))\n",
    "    model.add(Dense(3, activation='relu'))\n",
    "    model.add(Dense(1, activation='sigmoid'))\n",
    "    model.compile(loss='binary_crossentropy', optimizer='adam', metrics=['mse'])\n",
    "    \n",
    "    return model"
   ]
  },
  {
   "cell_type": "markdown",
   "metadata": {},
   "source": [
    "# Setup the data for NN"
   ]
  },
  {
   "cell_type": "code",
   "execution_count": 5,
   "metadata": {
    "collapsed": true
   },
   "outputs": [],
   "source": [
    "df = pd.read_csv(data)"
   ]
  },
  {
   "cell_type": "code",
   "execution_count": 6,
   "metadata": {},
   "outputs": [
    {
     "data": {
      "text/plain": [
       "(2059, 2059)"
      ]
     },
     "execution_count": 6,
     "metadata": {},
     "output_type": "execute_result"
    }
   ],
   "source": [
    "# Count the # of failures and sample an equal number of non failures\n",
    "dry = df[df.dry == 1]\n",
    "not_dry = df[df.dry != 1]\n",
    "not_dry = not_dry.sample(n=len(df[df.dry ==1]))\n",
    "len(dry), len(not_dry)"
   ]
  },
  {
   "cell_type": "code",
   "execution_count": 7,
   "metadata": {
    "collapsed": true
   },
   "outputs": [],
   "source": [
    "df = pd.concat([dry,not_dry])"
   ]
  },
  {
   "cell_type": "code",
   "execution_count": 8,
   "metadata": {
    "collapsed": true
   },
   "outputs": [],
   "source": [
    "scaler = MinMaxScaler() # Scale the data using sklearn minmax scaler\n",
    "\n",
    "labels = np.array(df['dry'])\n",
    "\n",
    "features = df.drop(['dry','name'], axis = 1)\n",
    "features = pd.DataFrame(scaler.fit_transform(features), columns=features.columns)\n",
    "features = np.array(features)"
   ]
  },
  {
   "cell_type": "code",
   "execution_count": 30,
   "metadata": {},
   "outputs": [
    {
     "name": "stdout",
     "output_type": "stream",
     "text": [
      "Epoch 1/100\n",
      "3294/3294 [==============================] - 1s 200us/step - loss: 0.6710 - mean_squared_error: 0.2390\n",
      "Epoch 2/100\n",
      "3294/3294 [==============================] - 0s 46us/step - loss: 0.6161 - mean_squared_error: 0.2128\n",
      "Epoch 3/100\n",
      "3294/3294 [==============================] - 0s 44us/step - loss: 0.6031 - mean_squared_error: 0.2072\n",
      "Epoch 4/100\n",
      "3294/3294 [==============================] - 0s 45us/step - loss: 0.5959 - mean_squared_error: 0.2040 0s - loss: 0.5989 - mean_squared_error: 0.\n",
      "Epoch 5/100\n",
      "3294/3294 [==============================] - 0s 43us/step - loss: 0.5960 - mean_squared_error: 0.2040\n",
      "Epoch 6/100\n",
      "3294/3294 [==============================] - 0s 44us/step - loss: 0.5924 - mean_squared_error: 0.2025\n",
      "Epoch 7/100\n",
      "3294/3294 [==============================] - 0s 43us/step - loss: 0.5887 - mean_squared_error: 0.2008\n",
      "Epoch 8/100\n",
      "3294/3294 [==============================] - 0s 44us/step - loss: 0.5829 - mean_squared_error: 0.1982\n",
      "Epoch 9/100\n",
      "3294/3294 [==============================] - 0s 44us/step - loss: 0.5824 - mean_squared_error: 0.1979\n",
      "Epoch 10/100\n",
      "3294/3294 [==============================] - 0s 43us/step - loss: 0.5789 - mean_squared_error: 0.1964\n",
      "Epoch 11/100\n",
      "3294/3294 [==============================] - 0s 44us/step - loss: 0.5749 - mean_squared_error: 0.1948\n",
      "Epoch 12/100\n",
      "3294/3294 [==============================] - 0s 42us/step - loss: 0.5760 - mean_squared_error: 0.1952\n",
      "Epoch 13/100\n",
      "3294/3294 [==============================] - 0s 44us/step - loss: 0.5730 - mean_squared_error: 0.1939\n",
      "Epoch 14/100\n",
      "3294/3294 [==============================] - 0s 44us/step - loss: 0.5724 - mean_squared_error: 0.1936\n",
      "Epoch 15/100\n",
      "3294/3294 [==============================] - 0s 44us/step - loss: 0.5700 - mean_squared_error: 0.1925\n",
      "Epoch 16/100\n",
      "3294/3294 [==============================] - 0s 46us/step - loss: 0.5688 - mean_squared_error: 0.1921\n",
      "Epoch 17/100\n",
      "3294/3294 [==============================] - 0s 45us/step - loss: 0.5709 - mean_squared_error: 0.1931\n",
      "Epoch 18/100\n",
      "3294/3294 [==============================] - 0s 44us/step - loss: 0.5677 - mean_squared_error: 0.1915\n",
      "Epoch 19/100\n",
      "3294/3294 [==============================] - 0s 44us/step - loss: 0.5656 - mean_squared_error: 0.1906\n",
      "Epoch 20/100\n",
      "3294/3294 [==============================] - 0s 53us/step - loss: 0.5696 - mean_squared_error: 0.1924\n",
      "Epoch 21/100\n",
      "3294/3294 [==============================] - 0s 49us/step - loss: 0.5689 - mean_squared_error: 0.1921\n",
      "Epoch 22/100\n",
      "3294/3294 [==============================] - 0s 46us/step - loss: 0.5632 - mean_squared_error: 0.1895\n",
      "Epoch 23/100\n",
      "3294/3294 [==============================] - 0s 52us/step - loss: 0.5638 - mean_squared_error: 0.1898\n",
      "Epoch 24/100\n",
      "3294/3294 [==============================] - 0s 50us/step - loss: 0.5635 - mean_squared_error: 0.1896\n",
      "Epoch 25/100\n",
      "3294/3294 [==============================] - 0s 50us/step - loss: 0.5645 - mean_squared_error: 0.1901\n",
      "Epoch 26/100\n",
      "3294/3294 [==============================] - 0s 50us/step - loss: 0.5586 - mean_squared_error: 0.1875\n",
      "Epoch 27/100\n",
      "3294/3294 [==============================] - 0s 51us/step - loss: 0.5657 - mean_squared_error: 0.1905\n",
      "Epoch 28/100\n",
      "3294/3294 [==============================] - 0s 48us/step - loss: 0.5605 - mean_squared_error: 0.1883\n",
      "Epoch 29/100\n",
      "3294/3294 [==============================] - 0s 43us/step - loss: 0.5601 - mean_squared_error: 0.1882\n",
      "Epoch 30/100\n",
      "3294/3294 [==============================] - 0s 43us/step - loss: 0.5610 - mean_squared_error: 0.1887\n",
      "Epoch 31/100\n",
      "3294/3294 [==============================] - 0s 43us/step - loss: 0.5608 - mean_squared_error: 0.1886\n",
      "Epoch 32/100\n",
      "3294/3294 [==============================] - 0s 47us/step - loss: 0.5594 - mean_squared_error: 0.1882\n",
      "Epoch 33/100\n",
      "3294/3294 [==============================] - 0s 44us/step - loss: 0.5602 - mean_squared_error: 0.1885\n",
      "Epoch 34/100\n",
      "3294/3294 [==============================] - 0s 41us/step - loss: 0.5567 - mean_squared_error: 0.1869\n",
      "Epoch 35/100\n",
      "3294/3294 [==============================] - 0s 43us/step - loss: 0.5613 - mean_squared_error: 0.1888\n",
      "Epoch 36/100\n",
      "3294/3294 [==============================] - 0s 43us/step - loss: 0.5563 - mean_squared_error: 0.1868\n",
      "Epoch 37/100\n",
      "3294/3294 [==============================] - 0s 46us/step - loss: 0.5577 - mean_squared_error: 0.1873\n",
      "Epoch 38/100\n",
      "3294/3294 [==============================] - 0s 44us/step - loss: 0.5574 - mean_squared_error: 0.1869\n",
      "Epoch 39/100\n",
      "3294/3294 [==============================] - 0s 42us/step - loss: 0.5561 - mean_squared_error: 0.1867\n",
      "Epoch 40/100\n",
      "3294/3294 [==============================] - 0s 49us/step - loss: 0.5522 - mean_squared_error: 0.1850\n",
      "Epoch 41/100\n",
      "3294/3294 [==============================] - 0s 49us/step - loss: 0.5521 - mean_squared_error: 0.1851\n",
      "Epoch 42/100\n",
      "3294/3294 [==============================] - 0s 50us/step - loss: 0.5521 - mean_squared_error: 0.1851\n",
      "Epoch 43/100\n",
      "3294/3294 [==============================] - 0s 48us/step - loss: 0.5559 - mean_squared_error: 0.1869\n",
      "Epoch 44/100\n",
      "3294/3294 [==============================] - 0s 47us/step - loss: 0.5524 - mean_squared_error: 0.1851\n",
      "Epoch 45/100\n",
      "3294/3294 [==============================] - 0s 43us/step - loss: 0.5527 - mean_squared_error: 0.1851\n",
      "Epoch 46/100\n",
      "3294/3294 [==============================] - 0s 45us/step - loss: 0.5518 - mean_squared_error: 0.1849\n",
      "Epoch 47/100\n",
      "3294/3294 [==============================] - 0s 48us/step - loss: 0.5489 - mean_squared_error: 0.1838\n",
      "Epoch 48/100\n",
      "3294/3294 [==============================] - 0s 48us/step - loss: 0.5509 - mean_squared_error: 0.1846\n",
      "Epoch 49/100\n",
      "3294/3294 [==============================] - 0s 48us/step - loss: 0.5473 - mean_squared_error: 0.1830\n",
      "Epoch 50/100\n",
      "3294/3294 [==============================] - 0s 48us/step - loss: 0.5533 - mean_squared_error: 0.1858\n",
      "Epoch 51/100\n",
      "3294/3294 [==============================] - 0s 46us/step - loss: 0.5479 - mean_squared_error: 0.1836\n",
      "Epoch 52/100\n",
      "3294/3294 [==============================] - 0s 46us/step - loss: 0.5501 - mean_squared_error: 0.1843\n",
      "Epoch 53/100\n",
      "3294/3294 [==============================] - 0s 49us/step - loss: 0.5486 - mean_squared_error: 0.1837\n",
      "Epoch 54/100\n",
      "3294/3294 [==============================] - 0s 49us/step - loss: 0.5519 - mean_squared_error: 0.1851\n",
      "Epoch 55/100\n",
      "3294/3294 [==============================] - 0s 48us/step - loss: 0.5464 - mean_squared_error: 0.1828\n",
      "Epoch 56/100\n",
      "3294/3294 [==============================] - 0s 48us/step - loss: 0.5489 - mean_squared_error: 0.1839\n",
      "Epoch 57/100\n",
      "3294/3294 [==============================] - 0s 53us/step - loss: 0.5496 - mean_squared_error: 0.1842\n",
      "Epoch 58/100\n",
      "3294/3294 [==============================] - 0s 53us/step - loss: 0.5469 - mean_squared_error: 0.1832\n",
      "Epoch 59/100\n",
      "3294/3294 [==============================] - 0s 58us/step - loss: 0.5434 - mean_squared_error: 0.1818\n",
      "Epoch 60/100\n",
      "3294/3294 [==============================] - 0s 46us/step - loss: 0.5480 - mean_squared_error: 0.1836\n",
      "Epoch 61/100\n",
      "3294/3294 [==============================] - 0s 43us/step - loss: 0.5443 - mean_squared_error: 0.1821\n",
      "Epoch 62/100\n",
      "3294/3294 [==============================] - 0s 42us/step - loss: 0.5448 - mean_squared_error: 0.1824\n",
      "Epoch 63/100\n",
      "3294/3294 [==============================] - 0s 44us/step - loss: 0.5426 - mean_squared_error: 0.1814\n",
      "Epoch 64/100\n",
      "3294/3294 [==============================] - 0s 50us/step - loss: 0.5438 - mean_squared_error: 0.1822\n",
      "Epoch 65/100\n",
      "3294/3294 [==============================] - 0s 48us/step - loss: 0.5454 - mean_squared_error: 0.1827\n",
      "Epoch 66/100\n",
      "3294/3294 [==============================] - 0s 45us/step - loss: 0.5432 - mean_squared_error: 0.1817\n",
      "Epoch 67/100\n",
      "3294/3294 [==============================] - 0s 50us/step - loss: 0.5453 - mean_squared_error: 0.1828 0s - loss: 0.5404 - mean_squared_error: 0.\n",
      "Epoch 68/100\n",
      "3294/3294 [==============================] - 0s 45us/step - loss: 0.5463 - mean_squared_error: 0.1832\n",
      "Epoch 69/100\n",
      "3294/3294 [==============================] - 0s 44us/step - loss: 0.5398 - mean_squared_error: 0.1805\n",
      "Epoch 70/100\n",
      "3294/3294 [==============================] - 0s 47us/step - loss: 0.5434 - mean_squared_error: 0.1819\n",
      "Epoch 71/100\n"
     ]
    },
    {
     "name": "stdout",
     "output_type": "stream",
     "text": [
      "3294/3294 [==============================] - 0s 49us/step - loss: 0.5414 - mean_squared_error: 0.1812\n",
      "Epoch 72/100\n",
      "3294/3294 [==============================] - 0s 50us/step - loss: 0.5457 - mean_squared_error: 0.1827\n",
      "Epoch 73/100\n",
      "3294/3294 [==============================] - 0s 45us/step - loss: 0.5388 - mean_squared_error: 0.1800\n",
      "Epoch 74/100\n",
      "3294/3294 [==============================] - 0s 43us/step - loss: 0.5380 - mean_squared_error: 0.1797\n",
      "Epoch 75/100\n",
      "3294/3294 [==============================] - 0s 43us/step - loss: 0.5412 - mean_squared_error: 0.1811\n",
      "Epoch 76/100\n",
      "3294/3294 [==============================] - 0s 48us/step - loss: 0.5370 - mean_squared_error: 0.1790\n",
      "Epoch 77/100\n",
      "3294/3294 [==============================] - 0s 52us/step - loss: 0.5379 - mean_squared_error: 0.1797\n",
      "Epoch 78/100\n",
      "3294/3294 [==============================] - 0s 44us/step - loss: 0.5377 - mean_squared_error: 0.1797\n",
      "Epoch 79/100\n",
      "3294/3294 [==============================] - 0s 45us/step - loss: 0.5378 - mean_squared_error: 0.1799\n",
      "Epoch 80/100\n",
      "3294/3294 [==============================] - 0s 49us/step - loss: 0.5348 - mean_squared_error: 0.1784\n",
      "Epoch 81/100\n",
      "3294/3294 [==============================] - 0s 43us/step - loss: 0.5424 - mean_squared_error: 0.1820\n",
      "Epoch 82/100\n",
      "3294/3294 [==============================] - 0s 43us/step - loss: 0.5402 - mean_squared_error: 0.1808\n",
      "Epoch 83/100\n",
      "3294/3294 [==============================] - 0s 47us/step - loss: 0.5377 - mean_squared_error: 0.1798\n",
      "Epoch 84/100\n",
      "3294/3294 [==============================] - 0s 46us/step - loss: 0.5343 - mean_squared_error: 0.1786\n",
      "Epoch 85/100\n",
      "3294/3294 [==============================] - 0s 45us/step - loss: 0.5388 - mean_squared_error: 0.1804\n",
      "Epoch 86/100\n",
      "3294/3294 [==============================] - 0s 43us/step - loss: 0.5343 - mean_squared_error: 0.1785\n",
      "Epoch 87/100\n",
      "3294/3294 [==============================] - 0s 48us/step - loss: 0.5328 - mean_squared_error: 0.1780\n",
      "Epoch 88/100\n",
      "3294/3294 [==============================] - 0s 47us/step - loss: 0.5342 - mean_squared_error: 0.1785\n",
      "Epoch 89/100\n",
      "3294/3294 [==============================] - 0s 49us/step - loss: 0.5332 - mean_squared_error: 0.1779\n",
      "Epoch 90/100\n",
      "3294/3294 [==============================] - 0s 52us/step - loss: 0.5321 - mean_squared_error: 0.1778\n",
      "Epoch 91/100\n",
      "3294/3294 [==============================] - 0s 51us/step - loss: 0.5305 - mean_squared_error: 0.1773\n",
      "Epoch 92/100\n",
      "3294/3294 [==============================] - 0s 49us/step - loss: 0.5339 - mean_squared_error: 0.1785\n",
      "Epoch 93/100\n",
      "3294/3294 [==============================] - 0s 47us/step - loss: 0.5329 - mean_squared_error: 0.1781\n",
      "Epoch 94/100\n",
      "3294/3294 [==============================] - 0s 45us/step - loss: 0.5337 - mean_squared_error: 0.1786\n",
      "Epoch 95/100\n",
      "3294/3294 [==============================] - 0s 49us/step - loss: 0.5308 - mean_squared_error: 0.1776\n",
      "Epoch 96/100\n",
      "3294/3294 [==============================] - 0s 46us/step - loss: 0.5277 - mean_squared_error: 0.1761\n",
      "Epoch 97/100\n",
      "3294/3294 [==============================] - 0s 43us/step - loss: 0.5285 - mean_squared_error: 0.1763\n",
      "Epoch 98/100\n",
      "3294/3294 [==============================] - 0s 46us/step - loss: 0.5274 - mean_squared_error: 0.1759\n",
      "Epoch 99/100\n",
      "3294/3294 [==============================] - 0s 49us/step - loss: 0.5301 - mean_squared_error: 0.1772\n",
      "Epoch 100/100\n",
      "3294/3294 [==============================] - 0s 50us/step - loss: 0.5282 - mean_squared_error: 0.1765\n"
     ]
    }
   ],
   "source": [
    "# Train / Test split\n",
    "train_features, test_features, train_labels, test_labels = train_test_split(features, labels, test_size = 0.2, random_state = 1)\n",
    "    \n",
    "# NN naming convention\n",
    "X_train = np.array(train_features)\n",
    "X_test = np.array(test_features)\n",
    "y_train = np.array(train_labels)\n",
    "y_test = np.array(test_labels)\n",
    "    \n",
    "# Fit model\n",
    "model = baseline_model(X_train)\n",
    "model.fit(X_train, y_train, epochs=100,verbose=1)\n",
    "predictions = model.predict(X_test)"
   ]
  },
  {
   "cell_type": "code",
   "execution_count": 33,
   "metadata": {
    "collapsed": true
   },
   "outputs": [],
   "source": [
    "# Reshape \n",
    "predictions = predictions.reshape(predictions.shape[0])\n",
    "\n",
    "# Take \n",
    "preds = []\n",
    "\n",
    "for i in predictions:\n",
    "    if i > 0.5: \n",
    "        preds.append(1)\n",
    "    else:\n",
    "        preds.append(0)"
   ]
  },
  {
   "cell_type": "code",
   "execution_count": 34,
   "metadata": {},
   "outputs": [
    {
     "data": {
      "text/plain": [
       "11.28640776699029"
      ]
     },
     "execution_count": 34,
     "metadata": {},
     "output_type": "execute_result"
    }
   ],
   "source": [
    "mape = 100. * (np.abs((preds - y_test) / y_test))\n",
    "np.mean(mape)"
   ]
  },
  {
   "cell_type": "code",
   "execution_count": 35,
   "metadata": {},
   "outputs": [
    {
     "data": {
      "text/plain": [
       "88.713592233009706"
      ]
     },
     "execution_count": 35,
     "metadata": {},
     "output_type": "execute_result"
    }
   ],
   "source": [
    "accuracy = 100. - np.mean(mape)\n",
    "accuracy"
   ]
  },
  {
   "cell_type": "markdown",
   "metadata": {},
   "source": [
    "# Make a confusion matrix of the predictions "
   ]
  },
  {
   "cell_type": "code",
   "execution_count": 36,
   "metadata": {
    "collapsed": true
   },
   "outputs": [],
   "source": [
    "cm = sklearn.metrics.confusion_matrix(y_test, preds)"
   ]
  },
  {
   "cell_type": "code",
   "execution_count": 37,
   "metadata": {},
   "outputs": [
    {
     "data": {
      "image/png": "[encoded data removed]",
      "text/plain": [
       "<matplotlib.figure.Figure at 0x119659210>"
      ]
     },
     "metadata": {},
     "output_type": "display_data"
    }
   ],
   "source": [
    "plt.clf()\n",
    "plt.imshow(cm, interpolation='nearest', cmap=plt.cm.Wistia)\n",
    "classNames = ['did not fail','Failed']\n",
    "plt.title('Well failure or Not Faulure Confusion Matrix - Test Data')\n",
    "plt.ylabel('True label')\n",
    "plt.xlabel('Predicted label')\n",
    "tick_marks = np.arange(len(classNames))\n",
    "plt.xticks(tick_marks, classNames, rotation=45)\n",
    "plt.yticks(tick_marks, classNames)\n",
    "s = [['TN','FP'], ['FN', 'TP']]\n",
    "for i in range(2):\n",
    "    for j in range(2):\n",
    "        plt.text(j,i, str(s[i][j])+\" = \"+str(cm[i][j]))\n",
    "plt.show()"
   ]
  },
  {
   "cell_type": "code",
   "execution_count": 38,
   "metadata": {},
   "outputs": [
    {
     "data": {
      "text/plain": [
       "0.7790973871733967"
      ]
     },
     "execution_count": 38,
     "metadata": {},
     "output_type": "execute_result"
    }
   ],
   "source": [
    "328. / (93.+328.)"
   ]
  },
  {
   "cell_type": "code",
   "execution_count": null,
   "metadata": {
    "collapsed": true
   },
   "outputs": [],
   "source": []
  }
 ],
 "metadata": {
  "kernelspec": {
   "display_name": "Python 2",
   "language": "python",
   "name": "python2"
  },
  "language_info": {
   "codemirror_mode": {
    "name": "ipython",
    "version": 2
   },
   "file_extension": ".py",
   "mimetype": "text/x-python",
   "name": "python",
   "nbconvert_exporter": "python",
   "pygments_lexer": "ipython2",
   "version": "2.7.13"
  }
 },
 "nbformat": 4,
 "nbformat_minor": 2
}
