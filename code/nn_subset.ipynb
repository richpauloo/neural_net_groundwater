{
 "cells": [
  {
   "cell_type": "code",
   "execution_count": 1,
   "metadata": {},
   "outputs": [
    {
     "name": "stderr",
     "output_type": "stream",
     "text": [
      "Using TensorFlow backend.\n"
     ]
    }
   ],
   "source": [
    "import numpy as np\n",
    "import pandas as pd\n",
    "import os\n",
    "import matplotlib.pyplot as plt\n",
    "import warnings\n",
    "\n",
    "import sklearn\n",
    "from sklearn.metrics import mean_squared_error\n",
    "from sklearn.preprocessing import MinMaxScaler\n",
    "from sklearn.ensemble import RandomForestRegressor\n",
    "from sklearn.model_selection import train_test_split\n",
    "\n",
    "from keras.models import Sequential\n",
    "from keras.layers import Dense\n",
    "\n",
    "warnings.filterwarnings('ignore')"
   ]
  },
  {
   "cell_type": "markdown",
   "metadata": {},
   "source": [
    "# Get the data"
   ]
  },
  {
   "cell_type": "code",
   "execution_count": 2,
   "metadata": {},
   "outputs": [
    {
     "data": {
      "text/plain": [
       "'/Users/aakashahamed/Desktop/moore/well_failure/neural_net_groundwater/data/cv_wells.csv'"
      ]
     },
     "execution_count": 2,
     "metadata": {},
     "output_type": "execute_result"
    }
   ],
   "source": [
    "cwd = os.getcwd()\n",
    "up1 = os.path.split(cwd)[0]\n",
    "data_dir = os.path.join(up1,\"data\")\n",
    "data = [os.path.join(data_dir,x) for x in os.listdir(data_dir) if x.endswith('.csv') if \"cv_wells\" in x][0]\n",
    "data"
   ]
  },
  {
   "cell_type": "markdown",
   "metadata": {},
   "source": [
    "# Define NN model"
   ]
  },
  {
   "cell_type": "code",
   "execution_count": 3,
   "metadata": {
    "collapsed": true
   },
   "outputs": [],
   "source": [
    "def baseline_model(X_train):\n",
    "    model = Sequential()\n",
    "    model.add(Dense(28, input_dim=56, activation='relu'))\n",
    "    model.add(Dense(14, activation='relu'))\n",
    "    model.add(Dense(7, activation='relu'))\n",
    "    model.add(Dense(3, activation='relu'))\n",
    "    model.add(Dense(1, activation='sigmoid'))\n",
    "    model.compile(loss='binary_crossentropy', optimizer='adam', metrics=['mse'])\n",
    "    \n",
    "    return model"
   ]
  },
  {
   "cell_type": "markdown",
   "metadata": {},
   "source": [
    "# Setup the data for NN"
   ]
  },
  {
   "cell_type": "code",
   "execution_count": 4,
   "metadata": {
    "collapsed": true
   },
   "outputs": [],
   "source": [
    "df = pd.read_csv(data)"
   ]
  },
  {
   "cell_type": "code",
   "execution_count": 10,
   "metadata": {},
   "outputs": [
    {
     "data": {
      "text/plain": [
       "(2059, 2059)"
      ]
     },
     "execution_count": 10,
     "metadata": {},
     "output_type": "execute_result"
    }
   ],
   "source": [
    "# Count the # of failures and sample an equal number of non failures\n",
    "dry = df[df.dry == 1]\n",
    "not_dry = df[df.dry != 1][0:len(df[df.dry ==1])]\n",
    "len(dry), len(not_dry)"
   ]
  },
  {
   "cell_type": "code",
   "execution_count": 11,
   "metadata": {
    "collapsed": true
   },
   "outputs": [],
   "source": [
    "df = pd.concat([dry,not_dry])"
   ]
  },
  {
   "cell_type": "code",
   "execution_count": 12,
   "metadata": {
    "collapsed": true
   },
   "outputs": [],
   "source": [
    "scaler = MinMaxScaler() # Scale the data using sklearn minmax scaler\n",
    "\n",
    "labels = np.array(df['dry'])\n",
    "\n",
    "features = df.drop(['dry','name'], axis = 1)\n",
    "features = pd.DataFrame(scaler.fit_transform(features), columns=features.columns)\n",
    "features = np.array(features)"
   ]
  },
  {
   "cell_type": "code",
   "execution_count": 20,
   "metadata": {},
   "outputs": [
    {
     "name": "stdout",
     "output_type": "stream",
     "text": [
      "Epoch 1/100\n",
      "3706/3706 [==============================] - 1s 185us/step - loss: 0.6932 - mean_squared_error: 0.2500\n",
      "Epoch 2/100\n",
      "3706/3706 [==============================] - 0s 44us/step - loss: 0.5851 - mean_squared_error: 0.2066\n",
      "Epoch 3/100\n",
      "3706/3706 [==============================] - 0s 42us/step - loss: 0.4026 - mean_squared_error: 0.1380\n",
      "Epoch 4/100\n",
      "3706/3706 [==============================] - 0s 41us/step - loss: 0.3542 - mean_squared_error: 0.1164\n",
      "Epoch 5/100\n",
      "3706/3706 [==============================] - 0s 43us/step - loss: 0.3153 - mean_squared_error: 0.0994\n",
      "Epoch 6/100\n",
      "3706/3706 [==============================] - 0s 44us/step - loss: 0.2919 - mean_squared_error: 0.0888\n",
      "Epoch 7/100\n",
      "3706/3706 [==============================] - 0s 44us/step - loss: 0.2749 - mean_squared_error: 0.0810\n",
      "Epoch 8/100\n",
      "3706/3706 [==============================] - 0s 45us/step - loss: 0.2586 - mean_squared_error: 0.0738\n",
      "Epoch 9/100\n",
      "3706/3706 [==============================] - 0s 47us/step - loss: 0.2423 - mean_squared_error: 0.0669\n",
      "Epoch 10/100\n",
      "3706/3706 [==============================] - 0s 45us/step - loss: 0.2317 - mean_squared_error: 0.0622\n",
      "Epoch 11/100\n",
      "3706/3706 [==============================] - 0s 45us/step - loss: 0.2193 - mean_squared_error: 0.0575\n",
      "Epoch 12/100\n",
      "3706/3706 [==============================] - 0s 45us/step - loss: 0.2063 - mean_squared_error: 0.0524\n",
      "Epoch 13/100\n",
      "3706/3706 [==============================] - 0s 50us/step - loss: 0.1959 - mean_squared_error: 0.0486\n",
      "Epoch 14/100\n",
      "3706/3706 [==============================] - 0s 50us/step - loss: 0.1856 - mean_squared_error: 0.0448\n",
      "Epoch 15/100\n",
      "3706/3706 [==============================] - 0s 44us/step - loss: 0.1775 - mean_squared_error: 0.0420\n",
      "Epoch 16/100\n",
      "3706/3706 [==============================] - 0s 47us/step - loss: 0.1708 - mean_squared_error: 0.0400\n",
      "Epoch 17/100\n",
      "3706/3706 [==============================] - 0s 45us/step - loss: 0.1626 - mean_squared_error: 0.0370\n",
      "Epoch 18/100\n",
      "3706/3706 [==============================] - 0s 47us/step - loss: 0.1569 - mean_squared_error: 0.0354\n",
      "Epoch 19/100\n",
      "3706/3706 [==============================] - 0s 45us/step - loss: 0.1502 - mean_squared_error: 0.0334\n",
      "Epoch 20/100\n",
      "3706/3706 [==============================] - 0s 48us/step - loss: 0.1457 - mean_squared_error: 0.0322\n",
      "Epoch 21/100\n",
      "3706/3706 [==============================] - 0s 46us/step - loss: 0.1398 - mean_squared_error: 0.0304\n",
      "Epoch 22/100\n",
      "3706/3706 [==============================] - 0s 45us/step - loss: 0.1369 - mean_squared_error: 0.0300\n",
      "Epoch 23/100\n",
      "3706/3706 [==============================] - 0s 48us/step - loss: 0.1299 - mean_squared_error: 0.0278\n",
      "Epoch 24/100\n",
      "3706/3706 [==============================] - 0s 52us/step - loss: 0.1281 - mean_squared_error: 0.0277\n",
      "Epoch 25/100\n",
      "3706/3706 [==============================] - 0s 49us/step - loss: 0.1217 - mean_squared_error: 0.0258\n",
      "Epoch 26/100\n",
      "3706/3706 [==============================] - 0s 46us/step - loss: 0.1184 - mean_squared_error: 0.0251\n",
      "Epoch 27/100\n",
      "3706/3706 [==============================] - 0s 44us/step - loss: 0.1170 - mean_squared_error: 0.0249\n",
      "Epoch 28/100\n",
      "3706/3706 [==============================] - 0s 45us/step - loss: 0.1178 - mean_squared_error: 0.0255\n",
      "Epoch 29/100\n",
      "3706/3706 [==============================] - 0s 47us/step - loss: 0.1115 - mean_squared_error: 0.0239\n",
      "Epoch 30/100\n",
      "3706/3706 [==============================] - 0s 47us/step - loss: 0.1097 - mean_squared_error: 0.0235\n",
      "Epoch 31/100\n",
      "3706/3706 [==============================] - 0s 53us/step - loss: 0.1105 - mean_squared_error: 0.0242\n",
      "Epoch 32/100\n",
      "3706/3706 [==============================] - 0s 57us/step - loss: 0.1068 - mean_squared_error: 0.0231\n",
      "Epoch 33/100\n",
      "3706/3706 [==============================] - 0s 48us/step - loss: 0.1071 - mean_squared_error: 0.0235\n",
      "Epoch 34/100\n",
      "3706/3706 [==============================] - 0s 47us/step - loss: 0.1032 - mean_squared_error: 0.0225\n",
      "Epoch 35/100\n",
      "3706/3706 [==============================] - 0s 47us/step - loss: 0.1025 - mean_squared_error: 0.0224\n",
      "Epoch 36/100\n",
      "3706/3706 [==============================] - 0s 48us/step - loss: 0.1019 - mean_squared_error: 0.0225\n",
      "Epoch 37/100\n",
      "3706/3706 [==============================] - 0s 44us/step - loss: 0.1003 - mean_squared_error: 0.0222\n",
      "Epoch 38/100\n",
      "3706/3706 [==============================] - 0s 46us/step - loss: 0.1026 - mean_squared_error: 0.0230\n",
      "Epoch 39/100\n",
      "3706/3706 [==============================] - 0s 50us/step - loss: 0.1016 - mean_squared_error: 0.0228\n",
      "Epoch 40/100\n",
      "3706/3706 [==============================] - 0s 45us/step - loss: 0.0997 - mean_squared_error: 0.0226\n",
      "Epoch 41/100\n",
      "3706/3706 [==============================] - 0s 47us/step - loss: 0.0999 - mean_squared_error: 0.0228\n",
      "Epoch 42/100\n",
      "3706/3706 [==============================] - 0s 47us/step - loss: 0.0976 - mean_squared_error: 0.0219\n",
      "Epoch 43/100\n",
      "3706/3706 [==============================] - 0s 50us/step - loss: 0.0965 - mean_squared_error: 0.0217\n",
      "Epoch 44/100\n",
      "3706/3706 [==============================] - 0s 48us/step - loss: 0.0973 - mean_squared_error: 0.0220\n",
      "Epoch 45/100\n",
      "3706/3706 [==============================] - 0s 46us/step - loss: 0.0945 - mean_squared_error: 0.0211\n",
      "Epoch 46/100\n",
      "3706/3706 [==============================] - 0s 44us/step - loss: 0.1001 - mean_squared_error: 0.0229\n",
      "Epoch 47/100\n",
      "3706/3706 [==============================] - 0s 47us/step - loss: 0.0963 - mean_squared_error: 0.0217\n",
      "Epoch 48/100\n",
      "3706/3706 [==============================] - 0s 48us/step - loss: 0.0947 - mean_squared_error: 0.0215\n",
      "Epoch 49/100\n",
      "3706/3706 [==============================] - 0s 51us/step - loss: 0.0957 - mean_squared_error: 0.0217\n",
      "Epoch 50/100\n",
      "3706/3706 [==============================] - 0s 52us/step - loss: 0.0947 - mean_squared_error: 0.0217\n",
      "Epoch 51/100\n",
      "3706/3706 [==============================] - 0s 51us/step - loss: 0.0938 - mean_squared_error: 0.0213\n",
      "Epoch 52/100\n",
      "3706/3706 [==============================] - 0s 46us/step - loss: 0.0953 - mean_squared_error: 0.0216\n",
      "Epoch 53/100\n",
      "3706/3706 [==============================] - 0s 41us/step - loss: 0.0948 - mean_squared_error: 0.0216\n",
      "Epoch 54/100\n",
      "3706/3706 [==============================] - 0s 43us/step - loss: 0.0938 - mean_squared_error: 0.0213\n",
      "Epoch 55/100\n",
      "3706/3706 [==============================] - 0s 43us/step - loss: 0.0950 - mean_squared_error: 0.0218\n",
      "Epoch 56/100\n",
      "3706/3706 [==============================] - 0s 40us/step - loss: 0.0951 - mean_squared_error: 0.0219\n",
      "Epoch 57/100\n",
      "3706/3706 [==============================] - 0s 39us/step - loss: 0.0952 - mean_squared_error: 0.0219\n",
      "Epoch 58/100\n",
      "3706/3706 [==============================] - 0s 38us/step - loss: 0.1027 - mean_squared_error: 0.0241\n",
      "Epoch 59/100\n",
      "3706/3706 [==============================] - 0s 39us/step - loss: 0.0939 - mean_squared_error: 0.0214\n",
      "Epoch 60/100\n",
      "3706/3706 [==============================] - 0s 40us/step - loss: 0.0930 - mean_squared_error: 0.0211\n",
      "Epoch 61/100\n",
      "3706/3706 [==============================] - 0s 48us/step - loss: 0.0921 - mean_squared_error: 0.0210\n",
      "Epoch 62/100\n",
      "3706/3706 [==============================] - 0s 48us/step - loss: 0.0937 - mean_squared_error: 0.0215\n",
      "Epoch 63/100\n",
      "3706/3706 [==============================] - 0s 47us/step - loss: 0.0945 - mean_squared_error: 0.0218\n",
      "Epoch 64/100\n",
      "3706/3706 [==============================] - 0s 44us/step - loss: 0.0914 - mean_squared_error: 0.0208\n",
      "Epoch 65/100\n",
      "3706/3706 [==============================] - 0s 46us/step - loss: 0.0910 - mean_squared_error: 0.0207\n",
      "Epoch 66/100\n",
      "3706/3706 [==============================] - 0s 45us/step - loss: 0.0910 - mean_squared_error: 0.0206\n",
      "Epoch 67/100\n",
      "3706/3706 [==============================] - 0s 49us/step - loss: 0.0965 - mean_squared_error: 0.0222\n",
      "Epoch 68/100\n",
      "3706/3706 [==============================] - 0s 50us/step - loss: 0.0901 - mean_squared_error: 0.0204\n",
      "Epoch 69/100\n",
      "3706/3706 [==============================] - 0s 46us/step - loss: 0.0922 - mean_squared_error: 0.0210\n",
      "Epoch 70/100\n",
      "3706/3706 [==============================] - 0s 44us/step - loss: 0.0950 - mean_squared_error: 0.0221\n",
      "Epoch 71/100\n",
      "3706/3706 [==============================] - 0s 45us/step - loss: 0.0908 - mean_squared_error: 0.0206\n",
      "Epoch 72/100\n",
      "3706/3706 [==============================] - 0s 43us/step - loss: 0.0928 - mean_squared_error: 0.0212\n",
      "Epoch 73/100\n",
      "3706/3706 [==============================] - 0s 46us/step - loss: 0.0930 - mean_squared_error: 0.0212\n",
      "Epoch 74/100\n",
      "3706/3706 [==============================] - 0s 46us/step - loss: 0.0890 - mean_squared_error: 0.0204\n",
      "Epoch 75/100\n",
      "3706/3706 [==============================] - 0s 47us/step - loss: 0.0894 - mean_squared_error: 0.0204\n",
      "Epoch 76/100\n",
      "3706/3706 [==============================] - 0s 48us/step - loss: 0.0873 - mean_squared_error: 0.0197\n",
      "Epoch 77/100\n",
      "3706/3706 [==============================] - 0s 45us/step - loss: 0.0860 - mean_squared_error: 0.0193\n",
      "Epoch 78/100\n",
      "3706/3706 [==============================] - 0s 44us/step - loss: 0.0872 - mean_squared_error: 0.0197\n",
      "Epoch 79/100\n",
      "3706/3706 [==============================] - 0s 46us/step - loss: 0.0875 - mean_squared_error: 0.0197\n",
      "Epoch 80/100\n",
      "3706/3706 [==============================] - 0s 44us/step - loss: 0.0865 - mean_squared_error: 0.0194\n",
      "Epoch 81/100\n",
      "3706/3706 [==============================] - 0s 47us/step - loss: 0.0860 - mean_squared_error: 0.0193\n",
      "Epoch 82/100\n",
      "3706/3706 [==============================] - 0s 48us/step - loss: 0.0879 - mean_squared_error: 0.0203\n",
      "Epoch 83/100\n",
      "3706/3706 [==============================] - 0s 46us/step - loss: 0.0857 - mean_squared_error: 0.0191\n",
      "Epoch 84/100\n",
      "3706/3706 [==============================] - 0s 46us/step - loss: 0.0850 - mean_squared_error: 0.0190\n",
      "Epoch 85/100\n",
      "3706/3706 [==============================] - 0s 47us/step - loss: 0.0866 - mean_squared_error: 0.0196\n",
      "Epoch 86/100\n",
      "3706/3706 [==============================] - 0s 46us/step - loss: 0.0867 - mean_squared_error: 0.0194\n",
      "Epoch 87/100\n",
      "3706/3706 [==============================] - 0s 52us/step - loss: 0.0899 - mean_squared_error: 0.0206\n",
      "Epoch 88/100\n",
      "3706/3706 [==============================] - 0s 47us/step - loss: 0.0849 - mean_squared_error: 0.0190\n",
      "Epoch 89/100\n",
      "3706/3706 [==============================] - 0s 44us/step - loss: 0.0868 - mean_squared_error: 0.0193\n",
      "Epoch 90/100\n",
      "3706/3706 [==============================] - 0s 44us/step - loss: 0.0864 - mean_squared_error: 0.0194\n",
      "Epoch 91/100\n",
      "3706/3706 [==============================] - 0s 44us/step - loss: 0.0863 - mean_squared_error: 0.0195\n",
      "Epoch 92/100\n",
      "3706/3706 [==============================] - 0s 43us/step - loss: 0.0856 - mean_squared_error: 0.0193\n",
      "Epoch 93/100\n",
      "3706/3706 [==============================] - 0s 41us/step - loss: 0.0855 - mean_squared_error: 0.0191\n",
      "Epoch 94/100\n",
      "3706/3706 [==============================] - 0s 42us/step - loss: 0.0870 - mean_squared_error: 0.0198\n",
      "Epoch 95/100\n",
      "3706/3706 [==============================] - 0s 40us/step - loss: 0.0855 - mean_squared_error: 0.0200\n",
      "Epoch 96/100\n",
      "3706/3706 [==============================] - 0s 41us/step - loss: 0.0858 - mean_squared_error: 0.0200\n",
      "Epoch 97/100\n",
      "3706/3706 [==============================] - 0s 46us/step - loss: 0.0823 - mean_squared_error: 0.0188\n",
      "Epoch 98/100\n",
      "3706/3706 [==============================] - 0s 47us/step - loss: 0.0803 - mean_squared_error: 0.0186\n",
      "Epoch 99/100\n",
      "3706/3706 [==============================] - 0s 45us/step - loss: 0.0786 - mean_squared_error: 0.0183\n",
      "Epoch 100/100\n",
      "3706/3706 [==============================] - 0s 46us/step - loss: 0.0760 - mean_squared_error: 0.0177\n"
     ]
    }
   ],
   "source": [
    "# Train / Test split\n",
    "train_features, test_features, train_labels, test_labels = train_test_split(features, labels, test_size = 0.1, random_state = 10)\n",
    "    \n",
    "# NN naming convention\n",
    "X_train = np.array(train_features)\n",
    "X_test = np.array(test_features)\n",
    "y_train = np.array(train_labels)\n",
    "y_test = np.array(test_labels)\n",
    "    \n",
    "# Fit model\n",
    "model = baseline_model(X_train)\n",
    "model.fit(X_train, y_train, epochs=100,verbose=1)\n",
    "predictions = model.predict(X_test)"
   ]
  },
  {
   "cell_type": "code",
   "execution_count": 23,
   "metadata": {
    "collapsed": true
   },
   "outputs": [],
   "source": [
    "# Reshape \n",
    "predictions = predictions.reshape(predictions.shape[0])\n",
    "\n",
    "# Take \n",
    "preds = []\n",
    "\n",
    "for i in predictions:\n",
    "    if i > 0.5: \n",
    "        preds.append(1)\n",
    "    else:\n",
    "        preds.append(0)"
   ]
  },
  {
   "cell_type": "code",
   "execution_count": 24,
   "metadata": {},
   "outputs": [
    {
     "data": {
      "text/plain": [
       "2.1844660194174756"
      ]
     },
     "execution_count": 24,
     "metadata": {},
     "output_type": "execute_result"
    }
   ],
   "source": [
    "mape = 100. * (np.abs((preds - y_test) / y_test))\n",
    "np.mean(mape)"
   ]
  },
  {
   "cell_type": "code",
   "execution_count": 25,
   "metadata": {},
   "outputs": [
    {
     "data": {
      "text/plain": [
       "97.815533980582529"
      ]
     },
     "execution_count": 25,
     "metadata": {},
     "output_type": "execute_result"
    }
   ],
   "source": [
    "accuracy = 100. - np.mean(mape)\n",
    "accuracy"
   ]
  },
  {
   "cell_type": "markdown",
   "metadata": {},
   "source": [
    "# Make a confusion matrix of the predictions "
   ]
  },
  {
   "cell_type": "code",
   "execution_count": 26,
   "metadata": {
    "collapsed": true
   },
   "outputs": [],
   "source": [
    "cm = sklearn.metrics.confusion_matrix(y_test, preds)"
   ]
  },
  {
   "cell_type": "code",
   "execution_count": 27,
   "metadata": {},
   "outputs": [
    {
     "data": {
      "image/png": "[encoded data removed]",
      "text/plain": [
       "<matplotlib.figure.Figure at 0x11cfd9490>"
      ]
     },
     "metadata": {},
     "output_type": "display_data"
    }
   ],
   "source": [
    "plt.clf()\n",
    "plt.imshow(cm, interpolation='nearest', cmap=plt.cm.Wistia)\n",
    "classNames = ['did not fail','Failed']\n",
    "plt.title('Well failure or Not Faulure Confusion Matrix - Test Data')\n",
    "plt.ylabel('True label')\n",
    "plt.xlabel('Predicted label')\n",
    "tick_marks = np.arange(len(classNames))\n",
    "plt.xticks(tick_marks, classNames, rotation=45)\n",
    "plt.yticks(tick_marks, classNames)\n",
    "s = [['TN','FP'], ['FN', 'TP']]\n",
    "for i in range(2):\n",
    "    for j in range(2):\n",
    "        plt.text(j,i, str(s[i][j])+\" = \"+str(cm[i][j]))\n",
    "plt.show()"
   ]
  },
  {
   "cell_type": "code",
   "execution_count": null,
   "metadata": {
    "collapsed": true
   },
   "outputs": [],
   "source": []
  }
 ],
 "metadata": {
  "kernelspec": {
   "display_name": "Python 2",
   "language": "python",
   "name": "python2"
  },
  "language_info": {
   "codemirror_mode": {
    "name": "ipython",
    "version": 2
   },
   "file_extension": ".py",
   "mimetype": "text/x-python",
   "name": "python",
   "nbconvert_exporter": "python",
   "pygments_lexer": "ipython2",
   "version": "2.7.13"
  }
 },
 "nbformat": 4,
 "nbformat_minor": 2
}
