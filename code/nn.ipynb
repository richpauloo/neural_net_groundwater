{
 "cells": [
  {
   "cell_type": "code",
   "execution_count": 1,
   "metadata": {},
   "outputs": [
    {
     "name": "stderr",
     "output_type": "stream",
     "text": [
      "Using TensorFlow backend.\n"
     ]
    }
   ],
   "source": [
    "import numpy as np\n",
    "import pandas as pd\n",
    "import os\n",
    "import matplotlib.pyplot as plt\n",
    "import warnings\n",
    "\n",
    "import sklearn\n",
    "from sklearn.metrics import mean_squared_error\n",
    "from sklearn.preprocessing import MinMaxScaler\n",
    "from sklearn.ensemble import RandomForestRegressor\n",
    "from sklearn.model_selection import train_test_split\n",
    "\n",
    "from keras.models import Sequential\n",
    "from keras.layers import Dense\n",
    "\n",
    "warnings.filterwarnings('ignore')"
   ]
  },
  {
   "cell_type": "markdown",
   "metadata": {},
   "source": [
    "# Get the data"
   ]
  },
  {
   "cell_type": "code",
   "execution_count": 7,
   "metadata": {},
   "outputs": [
    {
     "data": {
      "text/plain": [
       "'/Users/aakashahamed/Desktop/moore/well_failure/neural_net_groundwater/data/cv_wells.csv'"
      ]
     },
     "execution_count": 7,
     "metadata": {},
     "output_type": "execute_result"
    }
   ],
   "source": [
    "cwd = os.getcwd()\n",
    "up1 = os.path.split(cwd)[0]\n",
    "data_dir = os.path.join(up1,\"data\")\n",
    "data = [os.path.join(data_dir,x) for x in os.listdir(data_dir) if x.endswith('.csv') if \"cv_wells\" in x][0]\n",
    "data"
   ]
  },
  {
   "cell_type": "markdown",
   "metadata": {},
   "source": [
    "# Define NN model"
   ]
  },
  {
   "cell_type": "code",
   "execution_count": 8,
   "metadata": {
    "collapsed": true
   },
   "outputs": [],
   "source": [
    "def baseline_model(X_train):\n",
    "    model = Sequential()\n",
    "    model.add(Dense(28, input_dim=56, activation='relu'))\n",
    "    model.add(Dense(14, activation='relu'))\n",
    "    model.add(Dense(7, activation='relu'))\n",
    "    model.add(Dense(3, activation='relu'))\n",
    "    model.add(Dense(1, activation='sigmoid'))\n",
    "    model.compile(loss='binary_crossentropy', optimizer='adam', metrics=['mse'])\n",
    "    \n",
    "    return model"
   ]
  },
  {
   "cell_type": "markdown",
   "metadata": {},
   "source": [
    "# Setup the data for NN"
   ]
  },
  {
   "cell_type": "code",
   "execution_count": 9,
   "metadata": {
    "collapsed": true
   },
   "outputs": [],
   "source": [
    "df = pd.read_csv(data)\n",
    "scaler = MinMaxScaler() # Scale the data using sklearn minmax scaler\n",
    "\n",
    "labels = np.array(df['dry'])\n",
    "\n",
    "features = df.drop(['dry','name'], axis = 1)\n",
    "features = pd.DataFrame(scaler.fit_transform(features), columns=features.columns)\n",
    "features = np.array(features)"
   ]
  },
  {
   "cell_type": "code",
   "execution_count": 10,
   "metadata": {},
   "outputs": [
    {
     "name": "stdout",
     "output_type": "stream",
     "text": [
      "Epoch 1/15\n",
      "27473/27473 [==============================] - 2s 59us/step - loss: 0.2263 - mean_squared_error: 0.0578\n",
      "Epoch 2/15\n",
      "27473/27473 [==============================] - 1s 43us/step - loss: 0.2008 - mean_squared_error: 0.0512\n",
      "Epoch 3/15\n",
      "27473/27473 [==============================] - 1s 42us/step - loss: 0.1978 - mean_squared_error: 0.0508\n",
      "Epoch 4/15\n",
      "27473/27473 [==============================] - 1s 42us/step - loss: 0.1969 - mean_squared_error: 0.0507\n",
      "Epoch 5/15\n",
      "27473/27473 [==============================] - 1s 43us/step - loss: 0.1964 - mean_squared_error: 0.0507\n",
      "Epoch 6/15\n",
      "27473/27473 [==============================] - 1s 42us/step - loss: 0.1961 - mean_squared_error: 0.0506\n",
      "Epoch 7/15\n",
      "27473/27473 [==============================] - 1s 42us/step - loss: 0.1954 - mean_squared_error: 0.0505\n",
      "Epoch 8/15\n",
      "27473/27473 [==============================] - 1s 43us/step - loss: 0.1947 - mean_squared_error: 0.0504\n",
      "Epoch 9/15\n",
      "27473/27473 [==============================] - 1s 43us/step - loss: 0.1946 - mean_squared_error: 0.0505\n",
      "Epoch 10/15\n",
      "27473/27473 [==============================] - 1s 42us/step - loss: 0.1940 - mean_squared_error: 0.0503\n",
      "Epoch 11/15\n",
      "27473/27473 [==============================] - 1s 42us/step - loss: 0.1940 - mean_squared_error: 0.0503\n",
      "Epoch 12/15\n",
      "27473/27473 [==============================] - 1s 43us/step - loss: 0.1931 - mean_squared_error: 0.0502\n",
      "Epoch 13/15\n",
      "27473/27473 [==============================] - 1s 43us/step - loss: 0.1934 - mean_squared_error: 0.0502\n",
      "Epoch 14/15\n",
      "27473/27473 [==============================] - 1s 42us/step - loss: 0.1924 - mean_squared_error: 0.0501\n",
      "Epoch 15/15\n",
      "27473/27473 [==============================] - 1s 43us/step - loss: 0.1924 - mean_squared_error: 0.0501\n"
     ]
    }
   ],
   "source": [
    "# Train / Test split\n",
    "train_features, test_features, train_labels, test_labels = train_test_split(features, labels, test_size = 0.25, random_state = 10)\n",
    "    \n",
    "# NN naming convention\n",
    "X_train = np.array(train_features)\n",
    "X_test = np.array(test_features)\n",
    "y_train = np.array(train_labels)\n",
    "y_test = np.array(test_labels)\n",
    "    \n",
    "# Fit model\n",
    "model = baseline_model(X_train)\n",
    "model.fit(X_train, y_train, epochs=15,verbose=1)\n",
    "predictions = model.predict(X_test)"
   ]
  },
  {
   "cell_type": "code",
   "execution_count": 13,
   "metadata": {},
   "outputs": [],
   "source": [
    "# Reshape \n",
    "predictions = predictions.reshape(predictions.shape[0])\n",
    "\n",
    "# Take \n",
    "preds = []\n",
    "\n",
    "for i in predictions:\n",
    "    if i > np.percentile(predictions,95): # >95th percentile of probabilities = 1 (failure), else = 0 (non-failure)\n",
    "        preds.append(1)\n",
    "    else:\n",
    "        preds.append(0)"
   ]
  },
  {
   "cell_type": "code",
   "execution_count": 14,
   "metadata": {},
   "outputs": [
    {
     "data": {
      "text/plain": [
       "4.345927058309675"
      ]
     },
     "execution_count": 14,
     "metadata": {},
     "output_type": "execute_result"
    }
   ],
   "source": [
    "mape = 100. * (np.abs((preds - y_test) / y_test))\n",
    "np.mean(mape)"
   ]
  },
  {
   "cell_type": "code",
   "execution_count": 15,
   "metadata": {},
   "outputs": [
    {
     "data": {
      "text/plain": [
       "95.65407294169033"
      ]
     },
     "execution_count": 15,
     "metadata": {},
     "output_type": "execute_result"
    }
   ],
   "source": [
    "accuracy = 100. - np.mean(mape)\n",
    "accuracy"
   ]
  },
  {
   "cell_type": "markdown",
   "metadata": {},
   "source": [
    "# Make a confusion matrix of the predictions "
   ]
  },
  {
   "cell_type": "code",
   "execution_count": 16,
   "metadata": {
    "collapsed": true
   },
   "outputs": [],
   "source": [
    "cm = sklearn.metrics.confusion_matrix(y_test, preds)"
   ]
  },
  {
   "cell_type": "code",
   "execution_count": 17,
   "metadata": {},
   "outputs": [
    {
     "data": {
      "image/png": "[encoded data removed]",
      "text/plain": [
       "<matplotlib.figure.Figure at 0x1196d1990>"
      ]
     },
     "metadata": {},
     "output_type": "display_data"
    }
   ],
   "source": [
    "plt.clf()\n",
    "plt.imshow(cm, interpolation='nearest', cmap=plt.cm.Wistia)\n",
    "classNames = ['did not fail','Failed']\n",
    "plt.title('Well failure or Not Faulure Confusion Matrix - Test Data')\n",
    "plt.ylabel('True label')\n",
    "plt.xlabel('Predicted label')\n",
    "tick_marks = np.arange(len(classNames))\n",
    "plt.xticks(tick_marks, classNames, rotation=45)\n",
    "plt.yticks(tick_marks, classNames)\n",
    "s = [['TN','FP'], ['FN', 'TP']]\n",
    "for i in range(2):\n",
    "    for j in range(2):\n",
    "        plt.text(j,i, str(s[i][j])+\" = \"+str(cm[i][j]))\n",
    "plt.show()"
   ]
  },
  {
   "cell_type": "code",
   "execution_count": null,
   "metadata": {
    "collapsed": true
   },
   "outputs": [],
   "source": []
  }
 ],
 "metadata": {
  "kernelspec": {
   "display_name": "Python 2",
   "language": "python",
   "name": "python2"
  },
  "language_info": {
   "codemirror_mode": {
    "name": "ipython",
    "version": 2
   },
   "file_extension": ".py",
   "mimetype": "text/x-python",
   "name": "python",
   "nbconvert_exporter": "python",
   "pygments_lexer": "ipython2",
   "version": "2.7.13"
  }
 },
 "nbformat": 4,
 "nbformat_minor": 2
}
