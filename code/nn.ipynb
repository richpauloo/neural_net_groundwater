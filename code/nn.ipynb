{
 "cells": [
  {
   "cell_type": "code",
   "execution_count": 105,
   "metadata": {},
   "outputs": [],
   "source": [
    "import numpy as np\n",
    "import pandas as pd\n",
    "import geopandas as gp\n",
    "import os\n",
    "import ee\n",
    "import matplotlib\n",
    "import matplotlib.pyplot as plt\n",
    "import datetime\n",
    "import warnings\n",
    "\n",
    "from scipy import stats\n",
    "\n",
    "import sklearn\n",
    "from sklearn.metrics import mean_squared_error\n",
    "from sklearn.preprocessing import MinMaxScaler\n",
    "from sklearn.ensemble import RandomForestRegressor\n",
    "from sklearn.model_selection import train_test_split\n",
    "from sklearn.tree import export_graphviz\n",
    "\n",
    "from keras.models import Sequential\n",
    "from keras.layers import Dense\n",
    "\n",
    "warnings.filterwarnings('ignore')"
   ]
  },
  {
   "cell_type": "markdown",
   "metadata": {},
   "source": [
    "# Get the data"
   ]
  },
  {
   "cell_type": "code",
   "execution_count": 106,
   "metadata": {
    "collapsed": true
   },
   "outputs": [],
   "source": [
    "cwd = os.getcwd()\n",
    "up1 = os.path.split(cwd)[0]\n",
    "data = [os.path.join(up1,x) for x in os.listdir(up1) if x.endswith('.csv')][0]"
   ]
  },
  {
   "cell_type": "markdown",
   "metadata": {},
   "source": [
    "# Define NN model"
   ]
  },
  {
   "cell_type": "code",
   "execution_count": 122,
   "metadata": {
    "collapsed": true
   },
   "outputs": [],
   "source": [
    "def baseline_model(X_train):\n",
    "    model = Sequential()\n",
    "    model.add(Dense(28, input_dim=56, activation='relu'))\n",
    "    model.add(Dense(14, activation='relu'))\n",
    "    model.add(Dense(7, activation='relu'))\n",
    "    model.add(Dense(3, activation='relu'))\n",
    "    model.add(Dense(1, activation='sigmoid'))\n",
    "    model.compile(loss='binary_crossentropy', optimizer='adam', metrics=['mse'])\n",
    "    \n",
    "    return model"
   ]
  },
  {
   "cell_type": "markdown",
   "metadata": {},
   "source": [
    "# Setup the data for NN"
   ]
  },
  {
   "cell_type": "code",
   "execution_count": 123,
   "metadata": {},
   "outputs": [],
   "source": [
    "df = pd.read_csv(data)\n",
    "scaler = MinMaxScaler() # Scale the data using sklearn minmax scaler\n",
    "\n",
    "labels = np.array(df['dry'])\n",
    "\n",
    "features = df.drop(['dry','name'], axis = 1)\n",
    "features = pd.DataFrame(scaler.fit_transform(features), columns=features.columns)\n",
    "features = np.array(features)"
   ]
  },
  {
   "cell_type": "code",
   "execution_count": 124,
   "metadata": {},
   "outputs": [
    {
     "name": "stdout",
     "output_type": "stream",
     "text": [
      "Epoch 1/15\n",
      " - 2s - loss: 0.2559 - mean_squared_error: 0.0697\n",
      "Epoch 2/15\n",
      " - 1s - loss: 0.2001 - mean_squared_error: 0.0512\n",
      "Epoch 3/15\n",
      " - 1s - loss: 0.1973 - mean_squared_error: 0.0509\n",
      "Epoch 4/15\n",
      " - 1s - loss: 0.1969 - mean_squared_error: 0.0508\n",
      "Epoch 5/15\n",
      " - 1s - loss: 0.1969 - mean_squared_error: 0.0509\n",
      "Epoch 6/15\n",
      " - 1s - loss: 0.1953 - mean_squared_error: 0.0506\n",
      "Epoch 7/15\n",
      " - 1s - loss: 0.1950 - mean_squared_error: 0.0506\n",
      "Epoch 8/15\n",
      " - 1s - loss: 0.1948 - mean_squared_error: 0.0507\n",
      "Epoch 9/15\n",
      " - 1s - loss: 0.1947 - mean_squared_error: 0.0506\n",
      "Epoch 10/15\n",
      " - 1s - loss: 0.1942 - mean_squared_error: 0.0506\n",
      "Epoch 11/15\n",
      " - 1s - loss: 0.1935 - mean_squared_error: 0.0505\n",
      "Epoch 12/15\n",
      " - 1s - loss: 0.1929 - mean_squared_error: 0.0504\n",
      "Epoch 13/15\n",
      " - 1s - loss: 0.1925 - mean_squared_error: 0.0504\n",
      "Epoch 14/15\n",
      " - 1s - loss: 0.1918 - mean_squared_error: 0.0502\n",
      "Epoch 15/15\n",
      " - 1s - loss: 0.1921 - mean_squared_error: 0.0502\n"
     ]
    }
   ],
   "source": [
    "# Train / Test split\n",
    "train_features, test_features, train_labels, test_labels = train_test_split(features, labels, test_size = 0.25, random_state = 10)\n",
    "    \n",
    "# NN naming convention\n",
    "X_train = np.array(train_features)\n",
    "X_test = np.array(test_features)\n",
    "y_train = np.array(train_labels)\n",
    "y_test = np.array(test_labels)\n",
    "    \n",
    "# Fit model\n",
    "model = baseline_model(X_train)\n",
    "model.fit(X_train, y_train, epochs=15,verbose=2)\n",
    "predictions = model.predict(X_test)"
   ]
  },
  {
   "cell_type": "code",
   "execution_count": 125,
   "metadata": {
    "collapsed": true
   },
   "outputs": [],
   "source": [
    "# Reshape \n",
    "predictions = predictions.reshape(predictions.shape[0])\n",
    "\n",
    "# Take \n",
    "preds = []\n",
    "\n",
    "for i in predictions:\n",
    "    if i > np.percentile(predictions,95): # >95th percentile of probabilities = 1 (failure), else = 0 (non-failure)\n",
    "        preds.append(1)\n",
    "    else:\n",
    "        preds.append(0)"
   ]
  },
  {
   "cell_type": "code",
   "execution_count": 127,
   "metadata": {},
   "outputs": [
    {
     "data": {
      "text/plain": [
       "4.4442017907840139"
      ]
     },
     "execution_count": 127,
     "metadata": {},
     "output_type": "execute_result"
    }
   ],
   "source": [
    "mape = 100. * (np.abs((preds - y_test) / y_test))\n",
    "np.mean(mape)"
   ]
  },
  {
   "cell_type": "code",
   "execution_count": 128,
   "metadata": {},
   "outputs": [],
   "source": [
    "accuracy = 100. - np.mean(mape)"
   ]
  },
  {
   "cell_type": "code",
   "execution_count": 129,
   "metadata": {},
   "outputs": [
    {
     "data": {
      "text/plain": [
       "95.555798209215993"
      ]
     },
     "execution_count": 129,
     "metadata": {},
     "output_type": "execute_result"
    }
   ],
   "source": [
    "accuracy"
   ]
  }
 ],
 "metadata": {
  "kernelspec": {
   "display_name": "Python 2",
   "language": "python",
   "name": "python2"
  },
  "language_info": {
   "codemirror_mode": {
    "name": "ipython",
    "version": 2
   },
   "file_extension": ".py",
   "mimetype": "text/x-python",
   "name": "python",
   "nbconvert_exporter": "python",
   "pygments_lexer": "ipython2",
   "version": "2.7.13"
  }
 },
 "nbformat": 4,
 "nbformat_minor": 2
}
